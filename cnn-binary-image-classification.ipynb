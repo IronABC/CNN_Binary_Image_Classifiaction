{
 "cells": [
  {
   "cell_type": "code",
   "execution_count": 37,
   "metadata": {
    "_cell_guid": "79c7e3d0-c299-4dcb-8224-4455121ee9b0",
    "_uuid": "d629ff2d2480ee46fbb7e2d37f6b5fab8052498a"
   },
   "outputs": [],
   "source": [
    "# Convolutional Neural Network\n",
    "# Importing the Keras libraries and packages\n",
    "from keras.models import Sequential\n",
    "from keras.layers import Convolution2D,MaxPooling2D,Flatten,Dense\n",
    "import numpy as np"
   ]
  },
  {
   "cell_type": "markdown",
   "metadata": {},
   "source": [
    "**Part 1**<br>\n",
    "Initalizing the CNN"
   ]
  },
  {
   "cell_type": "code",
   "execution_count": 38,
   "metadata": {
    "_cell_guid": "79c7e3d0-c299-4dcb-8224-4455121ee9b0",
    "_uuid": "d629ff2d2480ee46fbb7e2d37f6b5fab8052498a"
   },
   "outputs": [],
   "source": [
    "classifier = Sequential()\n",
    "\n",
    "# Step 1 -> Convolution\n",
    "classifier.add(Convolution2D(32, 3, 3, input_shape = (64, 64, 3), activation = 'relu'))\n",
    "\n",
    "# Step 2 -> Pooling\n",
    "classifier.add(MaxPooling2D(pool_size = (2, 2)))\n",
    "\n",
    "# Adding a another convolutional layer\n",
    "classifier.add(Convolution2D(32, 3, 3, activation = 'relu'))\n",
    "classifier.add(MaxPooling2D(pool_size = (2, 2)))\n",
    "\n",
    "# Step 3 -> Flattening\n",
    "classifier.add(Flatten())\n",
    "\n",
    "# Step 4 -> Full connection\n",
    "classifier.add(Dense(units = 128, activation = 'relu'))\n",
    "classifier.add(Dense(units = 1, activation = 'sigmoid'))\n",
    "\n",
    "# Compiling the CNN\n",
    "classifier.compile(optimizer = 'adam', loss = 'binary_crossentropy', metrics = ['accuracy'])"
   ]
  },
  {
   "cell_type": "markdown",
   "metadata": {},
   "source": [
    "**Part 2**<br>\n",
    "Fitting the CNN to the images"
   ]
  },
  {
   "cell_type": "code",
   "execution_count": 39,
   "metadata": {
    "_cell_guid": "79c7e3d0-c299-4dcb-8224-4455121ee9b0",
    "_uuid": "d629ff2d2480ee46fbb7e2d37f6b5fab8052498a"
   },
   "outputs": [],
   "source": [
    "from keras.preprocessing.image import ImageDataGenerator\n",
    "\n",
    "train_datagen = ImageDataGenerator(rescale = 1./255,\n",
    "                                   shear_range = 0.2,\n",
    "                                   zoom_range = 0.2,\n",
    "                                   horizontal_flip = True)\n",
    "\n",
    "test_datagen = ImageDataGenerator(rescale = 1./255)"
   ]
  },
  {
   "cell_type": "code",
   "execution_count": 40,
   "metadata": {
    "_cell_guid": "79c7e3d0-c299-4dcb-8224-4455121ee9b0",
    "_uuid": "d629ff2d2480ee46fbb7e2d37f6b5fab8052498a"
   },
   "outputs": [
    {
     "name": "stdout",
     "output_type": "stream",
     "text": [
      "Found 8000 images belonging to 2 classes.\n",
      "Found 2000 images belonging to 2 classes.\n"
     ]
    }
   ],
   "source": [
    "#importing dataset\n",
    "train_data_path = '/kaggle/input/dataset/dataset/training_set'\n",
    "test_data_path = '/kaggle/input/dataset/dataset/test_set'\n",
    "training_set = train_datagen.flow_from_directory(train_data_path,\n",
    "                                                 target_size = (64, 64),\n",
    "                                                 batch_size = 32,\n",
    "                                                 class_mode = 'binary'\n",
    "                                                )\n",
    "\n",
    "test_set = test_datagen.flow_from_directory(test_data_path,\n",
    "                                            target_size = (64, 64),\n",
    "                                            batch_size = 32,\n",
    "                                            class_mode = 'binary'\n",
    "                                           )"
   ]
  },
  {
   "cell_type": "markdown",
   "metadata": {},
   "source": [
    "**Fitting the data on the model**"
   ]
  },
  {
   "cell_type": "code",
   "execution_count": null,
   "metadata": {
    "_cell_guid": "79c7e3d0-c299-4dcb-8224-4455121ee9b0",
    "_uuid": "d629ff2d2480ee46fbb7e2d37f6b5fab8052498a"
   },
   "outputs": [
    {
     "name": "stdout",
     "output_type": "stream",
     "text": [
      "Epoch 1/100\n",
      "250/250 [==============================] - 34s 136ms/step - loss: 0.6923 - accuracy: 0.5157 - val_loss: 0.6896 - val_accuracy: 0.5010\n",
      "Epoch 2/100\n",
      "250/250 [==============================] - 30s 121ms/step - loss: 0.6786 - accuracy: 0.5701\n",
      "Epoch 3/100\n",
      "250/250 [==============================] - 28s 114ms/step - loss: 0.6619 - accuracy: 0.6069\n",
      "Epoch 4/100\n",
      "250/250 [==============================] - 30s 118ms/step - loss: 0.6505 - accuracy: 0.6231\n",
      "Epoch 5/100\n",
      "250/250 [==============================] - 29s 116ms/step - loss: 0.6394 - accuracy: 0.6306\n",
      "Epoch 6/100\n",
      "250/250 [==============================] - 30s 118ms/step - loss: 0.6312 - accuracy: 0.6447\n",
      "Epoch 7/100\n",
      "250/250 [==============================] - 29s 116ms/step - loss: 0.6192 - accuracy: 0.6539\n",
      "Epoch 8/100\n",
      "250/250 [==============================] - 30s 120ms/step - loss: 0.6172 - accuracy: 0.6586\n",
      "Epoch 9/100\n",
      "250/250 [==============================] - 29s 114ms/step - loss: 0.6056 - accuracy: 0.6715\n",
      "Epoch 10/100\n",
      "250/250 [==============================] - 30s 118ms/step - loss: 0.6048 - accuracy: 0.6697\n",
      "Epoch 11/100\n",
      "250/250 [==============================] - 29s 116ms/step - loss: 0.5909 - accuracy: 0.6854\n",
      "Epoch 12/100\n",
      "250/250 [==============================] - 30s 118ms/step - loss: 0.5880 - accuracy: 0.6836\n",
      "Epoch 13/100\n",
      "250/250 [==============================] - 29s 117ms/step - loss: 0.5917 - accuracy: 0.6806\n",
      "Epoch 14/100\n",
      "250/250 [==============================] - 30s 119ms/step - loss: 0.5790 - accuracy: 0.6954\n",
      "Epoch 15/100\n",
      "160/250 [==================>...........] - ETA: 9s - loss: 0.5807 - accuracy: 0.6986 "
     ]
    }
   ],
   "source": [
    "\n",
    "import tensorflow as tf\n",
    "history = classifier.fit(training_set,\n",
    "               steps_per_epoch = 250,\n",
    "               epochs = 100,\n",
    "               validation_data = test_set,\n",
    "               validation_steps = 2000\n",
    "              )"
   ]
  },
  {
   "cell_type": "code",
   "execution_count": null,
   "metadata": {},
   "outputs": [],
   "source": [
    "print(history.history.keys())"
   ]
  },
  {
   "cell_type": "markdown",
   "metadata": {},
   "source": [
    "**Visualizing the progress**"
   ]
  },
  {
   "cell_type": "code",
   "execution_count": null,
   "metadata": {},
   "outputs": [],
   "source": [
    "import matplotlib.pyplot as plt\n",
    "plt.plot(history.history['accuracy'])\n",
    "plt.plot(history.history['val_accuracy'])\n",
    "plt.title('model accuracy')\n",
    "plt.ylabel('accuracy')\n",
    "plt.xlabel('epoch')\n",
    "plt.show()"
   ]
  },
  {
   "cell_type": "code",
   "execution_count": null,
   "metadata": {},
   "outputs": [],
   "source": [
    "plt.plot(history.history['loss'])\n",
    "plt.plot(history.history['val_loss'])\n",
    "plt.title('model loss')\n",
    "plt.ylabel('loss')\n",
    "plt.xlabel('epoch')\n",
    "plt.show()"
   ]
  },
  {
   "cell_type": "markdown",
   "metadata": {},
   "source": [
    "<b>Test your Image</b>"
   ]
  },
  {
   "cell_type": "code",
   "execution_count": null,
   "metadata": {},
   "outputs": [],
   "source": [
    "import numpy as np \n",
    "from keras.preprocessing import image\n",
    "\n",
    "image_path = \"\"\n",
    "\n",
    "test_image = image.load_img(image_path,target_size=(64,64))\n",
    "test_image= image.img_to_array(test_image)\n",
    "test_image = np.expand_dims(test_image, axis=0)\n",
    "\n",
    "result = classifier.predict(test_image)\n",
    "training_set.class_indices\n",
    "if result[0][0] >=0.5:\n",
    "    prediction = 'dog'\n",
    "else:\n",
    "    prediction='cat'\n",
    "print(prediction)"
   ]
  }
 ],
 "metadata": {
  "kernelspec": {
   "display_name": "Python 3",
   "language": "python",
   "name": "python3"
  },
  "language_info": {
   "codemirror_mode": {
    "name": "ipython",
    "version": 3
   },
   "file_extension": ".py",
   "mimetype": "text/x-python",
   "name": "python",
   "nbconvert_exporter": "python",
   "pygments_lexer": "ipython3",
   "version": "3.7.7"
  }
 },
 "nbformat": 4,
 "nbformat_minor": 4
}
